{
 "cells": [
  {
   "cell_type": "code",
   "execution_count": null,
   "metadata": {},
   "outputs": [],
   "source": []
  },
  {
   "attachments": {},
   "cell_type": "markdown",
   "metadata": {},
   "source": [
    "## Exercise:\n",
    "\n",
    "Write code in pandas to report the names of all the salespersons who did not have any orders related to the company with the name \"RED\".\n",
    "\n",
    "Return the result table in any order.\n",
    "\n",
    "The query result format is in the following example."
   ]
  },
  {
   "cell_type": "code",
   "execution_count": 7,
   "metadata": {},
   "outputs": [],
   "source": [
    "import pandas as pd\n",
    "\n",
    "# Creating the SalesPerson DataFrame\n",
    "salesperson_data = {'sales_id': [1, 2, 3, 4, 5],\n",
    "                    'name': ['John', 'Amy', 'Mark', 'Pam', 'Alex'],\n",
    "                    'salary': [100000, 12000, 65000, 25000, 5000],\n",
    "                    'commission_rate': [6, 5, 12, 25, 10],\n",
    "                    'hire_date': ['4/1/2006', '5/1/2010', '12/25/2008', '1/1/2005', '2/3/2007']}\n",
    "salesperson_df = pd.DataFrame(salesperson_data)\n",
    "\n",
    "# Creating the Company DataFrame\n",
    "company_data = {'com_id': [1, 2, 3, 4],\n",
    "                'name': ['RED', 'ORANGE', 'YELLOW', 'GREEN'],\n",
    "                'city': ['Boston', 'New York', 'Boston', 'Austin']}\n",
    "company_df = pd.DataFrame(company_data)\n",
    "\n",
    "# Creating the Orders DataFrame\n",
    "orders_data = {'order_id': [1, 2, 3, 4],\n",
    "               'order_date': ['1/1/2014', '2/1/2014', '3/1/2014', '4/1/2014'],\n",
    "               'com_id': [3, 4, 1, 1],\n",
    "               'sales_id': [4, 5, 1, 4],\n",
    "               'amount': [10000, 5000, 50000, 25000]}\n",
    "orders_df = pd.DataFrame(orders_data)\n"
   ]
  },
  {
   "cell_type": "code",
   "execution_count": 8,
   "metadata": {},
   "outputs": [
    {
     "data": {
      "text/html": [
       "<div>\n",
       "<style scoped>\n",
       "    .dataframe tbody tr th:only-of-type {\n",
       "        vertical-align: middle;\n",
       "    }\n",
       "\n",
       "    .dataframe tbody tr th {\n",
       "        vertical-align: top;\n",
       "    }\n",
       "\n",
       "    .dataframe thead th {\n",
       "        text-align: right;\n",
       "    }\n",
       "</style>\n",
       "<table border=\"1\" class=\"dataframe\">\n",
       "  <thead>\n",
       "    <tr style=\"text-align: right;\">\n",
       "      <th></th>\n",
       "      <th>order_id</th>\n",
       "      <th>com_id</th>\n",
       "      <th>sales_id</th>\n",
       "      <th>amount</th>\n",
       "    </tr>\n",
       "  </thead>\n",
       "  <tbody>\n",
       "    <tr>\n",
       "      <th>count</th>\n",
       "      <td>4.000000</td>\n",
       "      <td>4.00</td>\n",
       "      <td>4.000000</td>\n",
       "      <td>4.000000</td>\n",
       "    </tr>\n",
       "    <tr>\n",
       "      <th>mean</th>\n",
       "      <td>2.500000</td>\n",
       "      <td>2.25</td>\n",
       "      <td>3.500000</td>\n",
       "      <td>22500.000000</td>\n",
       "    </tr>\n",
       "    <tr>\n",
       "      <th>std</th>\n",
       "      <td>1.290994</td>\n",
       "      <td>1.50</td>\n",
       "      <td>1.732051</td>\n",
       "      <td>20207.259422</td>\n",
       "    </tr>\n",
       "    <tr>\n",
       "      <th>min</th>\n",
       "      <td>1.000000</td>\n",
       "      <td>1.00</td>\n",
       "      <td>1.000000</td>\n",
       "      <td>5000.000000</td>\n",
       "    </tr>\n",
       "    <tr>\n",
       "      <th>25%</th>\n",
       "      <td>1.750000</td>\n",
       "      <td>1.00</td>\n",
       "      <td>3.250000</td>\n",
       "      <td>8750.000000</td>\n",
       "    </tr>\n",
       "    <tr>\n",
       "      <th>50%</th>\n",
       "      <td>2.500000</td>\n",
       "      <td>2.00</td>\n",
       "      <td>4.000000</td>\n",
       "      <td>17500.000000</td>\n",
       "    </tr>\n",
       "    <tr>\n",
       "      <th>75%</th>\n",
       "      <td>3.250000</td>\n",
       "      <td>3.25</td>\n",
       "      <td>4.250000</td>\n",
       "      <td>31250.000000</td>\n",
       "    </tr>\n",
       "    <tr>\n",
       "      <th>max</th>\n",
       "      <td>4.000000</td>\n",
       "      <td>4.00</td>\n",
       "      <td>5.000000</td>\n",
       "      <td>50000.000000</td>\n",
       "    </tr>\n",
       "  </tbody>\n",
       "</table>\n",
       "</div>"
      ],
      "text/plain": [
       "       order_id  com_id  sales_id        amount\n",
       "count  4.000000    4.00  4.000000      4.000000\n",
       "mean   2.500000    2.25  3.500000  22500.000000\n",
       "std    1.290994    1.50  1.732051  20207.259422\n",
       "min    1.000000    1.00  1.000000   5000.000000\n",
       "25%    1.750000    1.00  3.250000   8750.000000\n",
       "50%    2.500000    2.00  4.000000  17500.000000\n",
       "75%    3.250000    3.25  4.250000  31250.000000\n",
       "max    4.000000    4.00  5.000000  50000.000000"
      ]
     },
     "execution_count": 8,
     "metadata": {},
     "output_type": "execute_result"
    }
   ],
   "source": [
    "orders_df.describe()"
   ]
  },
  {
   "cell_type": "code",
   "execution_count": 9,
   "metadata": {},
   "outputs": [
    {
     "data": {
      "text/plain": [
       "order_id       int64\n",
       "order_date    object\n",
       "com_id         int64\n",
       "sales_id       int64\n",
       "amount         int64\n",
       "dtype: object"
      ]
     },
     "execution_count": 9,
     "metadata": {},
     "output_type": "execute_result"
    }
   ],
   "source": [
    "orders_df.dtypes"
   ]
  },
  {
   "cell_type": "code",
   "execution_count": 10,
   "metadata": {},
   "outputs": [
    {
     "data": {
      "text/plain": [
       "Index(['order_id', 'order_date', 'com_id', 'sales_id', 'amount'], dtype='object')"
      ]
     },
     "execution_count": 10,
     "metadata": {},
     "output_type": "execute_result"
    }
   ],
   "source": [
    "orders_df.columns"
   ]
  },
  {
   "cell_type": "code",
   "execution_count": 23,
   "metadata": {},
   "outputs": [
    {
     "data": {
      "text/plain": [
       "2    1\n",
       "3    4\n",
       "Name: sales_id, dtype: int64"
      ]
     },
     "execution_count": 23,
     "metadata": {},
     "output_type": "execute_result"
    }
   ],
   "source": [
    "red_sales_people = orders_df.merge(company_df, on='com_id')['name'] == 'RED'\n",
    "red_sales_ids = orders_df[red_sales_people]['sales_id']\n",
    "red_sales_ids\n"
   ]
  },
  {
   "cell_type": "code",
   "execution_count": 26,
   "metadata": {},
   "outputs": [
    {
     "data": {
      "text/plain": [
       "1     Amy\n",
       "2    Mark\n",
       "4    Alex\n",
       "Name: name, dtype: object"
      ]
     },
     "execution_count": 26,
     "metadata": {},
     "output_type": "execute_result"
    }
   ],
   "source": [
    "salesperson_df[~salesperson_df['sales_id'].isin(red_sales_ids)]['name']"
   ]
  },
  {
   "cell_type": "code",
   "execution_count": null,
   "metadata": {},
   "outputs": [],
   "source": []
  }
 ],
 "metadata": {
  "kernelspec": {
   "display_name": "base",
   "language": "python",
   "name": "python3"
  },
  "language_info": {
   "codemirror_mode": {
    "name": "ipython",
    "version": 3
   },
   "file_extension": ".py",
   "mimetype": "text/x-python",
   "name": "python",
   "nbconvert_exporter": "python",
   "pygments_lexer": "ipython3",
   "version": "3.9.13"
  },
  "orig_nbformat": 4
 },
 "nbformat": 4,
 "nbformat_minor": 2
}
